{
 "cells": [
  {
   "cell_type": "markdown",
   "metadata": {},
   "source": [
    "# Lecture 1: Rcpp"
   ]
  },
  {
   "cell_type": "code",
   "execution_count": 1,
   "metadata": {},
   "outputs": [],
   "source": [
    "library(Rcpp)"
   ]
  },
  {
   "cell_type": "markdown",
   "metadata": {},
   "source": [
    "## 1"
   ]
  },
  {
   "cell_type": "code",
   "execution_count": 2,
   "metadata": {},
   "outputs": [],
   "source": [
    "cppFunction('\n",
    "int one() {\n",
    "    return 1;\n",
    "}\n",
    "')\n",
    "\n",
    "x <- one()"
   ]
  },
  {
   "cell_type": "markdown",
   "metadata": {},
   "source": [
    "## 2\n",
    "### summing elements in vector"
   ]
  },
  {
   "cell_type": "code",
   "execution_count": 3,
   "metadata": {},
   "outputs": [
    {
     "data": {
      "text/html": "5050",
      "text/latex": "5050",
      "text/markdown": "5050",
      "text/plain": "[1] 5050"
     },
     "metadata": {},
     "output_type": "display_data"
    }
   ],
   "source": [
    "cppFunction('\n",
    "double sumC(NumericVector x) {\n",
    "    int n = x.size();\n",
    "    double total = 0;\n",
    "    int i;\n",
    "    for (i = 0; i < n; i++) {\n",
    "        total = total + x[i];\n",
    "    }\n",
    "    return total;\n",
    "}')\n",
    "\n",
    "test = 1:100\n",
    "sumC(test)"
   ]
  },
  {
   "cell_type": "markdown",
   "metadata": {},
   "source": [
    "## 3 \n",
    "### calculating simple mean of vector"
   ]
  },
  {
   "cell_type": "code",
   "execution_count": 5,
   "metadata": {},
   "outputs": [
    {
     "data": {
      "text/html": "2",
      "text/latex": "2",
      "text/markdown": "2",
      "text/plain": "[1] 2"
     },
     "metadata": {},
     "output_type": "display_data"
    }
   ],
   "source": [
    "cppFunction('\n",
    "double my_mean(NumericVector x) {\n",
    "    int n = x.size();\n",
    "    double mean = 0;\n",
    "    int i;\n",
    "    for (i = 0; i < n; i++) {\n",
    "        mean = mean + x[i];\n",
    "    }\n",
    "    mean = mean / n;\n",
    "    return mean;\n",
    "}')\n",
    "\n",
    "my_mean(c(1,2,3))"
   ]
  },
  {
   "cell_type": "markdown",
   "metadata": {},
   "source": [
    "## 4 \n",
    "### vector is input and outputs a vector with elements that are >c as the same and elements that are <c are returned as 0"
   ]
  },
  {
   "cell_type": "code",
   "execution_count": 6,
   "metadata": {},
   "outputs": [
    {
     "data": {
      "text/html": "<style>\n.list-inline {list-style: none; margin:0; padding: 0}\n.list-inline>li {display: inline-block}\n.list-inline>li:not(:last-child)::after {content: \"\\00b7\"; padding: 0 .5ex}\n</style>\n<ol class=list-inline><li>0</li><li>0</li><li>5</li><li>5</li><li>0</li><li>0</li><li>0</li><li>4</li><li>0</li><li>4</li><li>7</li><li>6</li><li>4</li><li>0</li><li>5</li><li>5</li></ol>\n",
      "text/latex": "\\begin{enumerate*}\n\\item 0\n\\item 0\n\\item 5\n\\item 5\n\\item 0\n\\item 0\n\\item 0\n\\item 4\n\\item 0\n\\item 4\n\\item 7\n\\item 6\n\\item 4\n\\item 0\n\\item 5\n\\item 5\n\\end{enumerate*}\n",
      "text/markdown": "1. 0\n2. 0\n3. 5\n4. 5\n5. 0\n6. 0\n7. 0\n8. 4\n9. 0\n10. 4\n11. 7\n12. 6\n13. 4\n14. 0\n15. 5\n16. 5\n\n\n",
      "text/plain": " [1] 0 0 5 5 0 0 0 4 0 4 7 6 4 0 5 5"
     },
     "metadata": {},
     "output_type": "display_data"
    }
   ],
   "source": [
    "cppFunction('\n",
    "NumericVector my_check_C(NumericVector x, double c) {\n",
    "    int n = x.size();\n",
    "\n",
    "\n",
    "    // this works the same way as python\n",
    "    // clone must be used for this otherwise\n",
    "    // the variable points to the same element in memory\n",
    "    NumericVector out = clone(x);\n",
    "    int i;\n",
    "\n",
    "    for (i = 0; i < n; i++) {\n",
    "        if (x[i] <= c) {\n",
    "            out[i] = 0;\n",
    "        }\n",
    "    }\n",
    "    return out;\n",
    "}')\n",
    "\n",
    "my_check_C(c(1,3,5,5,3,2,2,4,3,4,7,6,4,3,5,5), 3)"
   ]
  },
  {
   "cell_type": "markdown",
   "metadata": {},
   "source": [
    "## 5\n",
    "### calculate cumulative sum of elements in vector and return as another vector"
   ]
  },
  {
   "cell_type": "code",
   "execution_count": 7,
   "metadata": {},
   "outputs": [
    {
     "data": {
      "text/html": "<style>\n.list-inline {list-style: none; margin:0; padding: 0}\n.list-inline>li {display: inline-block}\n.list-inline>li:not(:last-child)::after {content: \"\\00b7\"; padding: 0 .5ex}\n</style>\n<ol class=list-inline><li>1</li><li>3</li><li>6</li><li>10</li><li>15</li><li>21</li><li>28</li><li>36</li><li>45</li><li>55</li></ol>\n",
      "text/latex": "\\begin{enumerate*}\n\\item 1\n\\item 3\n\\item 6\n\\item 10\n\\item 15\n\\item 21\n\\item 28\n\\item 36\n\\item 45\n\\item 55\n\\end{enumerate*}\n",
      "text/markdown": "1. 1\n2. 3\n3. 6\n4. 10\n5. 15\n6. 21\n7. 28\n8. 36\n9. 45\n10. 55\n\n\n",
      "text/plain": " [1]  1  3  6 10 15 21 28 36 45 55"
     },
     "metadata": {},
     "output_type": "display_data"
    }
   ],
   "source": [
    "cppFunction('\n",
    "NumericVector my_cumsum(NumericVector x) {\n",
    "    int n = x.size();\n",
    "\n",
    "    NumericVector out = clone(x);\n",
    "    double total = 0;\n",
    "    int i;\n",
    "\n",
    "    for (i = 0; i < n; i++) {\n",
    "        total = total + x[i];\n",
    "        out[i] = total;\n",
    "    }\n",
    "    return out;\n",
    "}')\n",
    "\n",
    "my_cumsum(1:10)\n"
   ]
  },
  {
   "cell_type": "markdown",
   "metadata": {},
   "source": [
    "## 6\n",
    "### takes vector, returns vector of (min,max)"
   ]
  },
  {
   "cell_type": "code",
   "execution_count": 8,
   "metadata": {},
   "outputs": [
    {
     "data": {
      "text/html": "<style>\n.list-inline {list-style: none; margin:0; padding: 0}\n.list-inline>li {display: inline-block}\n.list-inline>li:not(:last-child)::after {content: \"\\00b7\"; padding: 0 .5ex}\n</style>\n<ol class=list-inline><li>1</li><li>5</li></ol>\n",
      "text/latex": "\\begin{enumerate*}\n\\item 1\n\\item 5\n\\end{enumerate*}\n",
      "text/markdown": "1. 1\n2. 5\n\n\n",
      "text/plain": "[1] 1 5"
     },
     "metadata": {},
     "output_type": "display_data"
    }
   ],
   "source": [
    "cppFunction('\n",
    "NumericVector my_range(NumericVector x) {    \n",
    "    NumericVector out(2);\n",
    "    out[1] = max(x);\n",
    "    out[0] = min(x);\n",
    "    return out;\n",
    "}')\n",
    "\n",
    "my_range(c(3,1,5,2))"
   ]
  },
  {
   "cell_type": "markdown",
   "metadata": {},
   "source": [
    "### practicing"
   ]
  },
  {
   "cell_type": "code",
   "execution_count": 10,
   "metadata": {},
   "outputs": [
    {
     "data": {
      "text/html": "<style>\n.list-inline {list-style: none; margin:0; padding: 0}\n.list-inline>li {display: inline-block}\n.list-inline>li:not(:last-child)::after {content: \"\\00b7\"; padding: 0 .5ex}\n</style>\n<ol class=list-inline><li>-1</li><li>343</li></ol>\n",
      "text/latex": "\\begin{enumerate*}\n\\item -1\n\\item 343\n\\end{enumerate*}\n",
      "text/markdown": "1. -1\n2. 343\n\n\n",
      "text/plain": "[1]  -1 343"
     },
     "metadata": {},
     "output_type": "display_data"
    }
   ],
   "source": [
    "cppFunction('\n",
    "NumericVector my_range_manual(NumericVector x) {    \n",
    "    NumericVector out(2);\n",
    "    NumericVector minmax(2);\n",
    "    int n = x.size();\n",
    "    int i;\n",
    "\n",
    "    double maximum = 0;\n",
    "    double minimum = 0;\n",
    "\n",
    "    for (i = 0; i < n; i++) {\n",
    "        minmax[0] = x[i];\n",
    "        minmax[1] = x[i];\n",
    "        if (minmax[0] > x[i]) {\n",
    "            out[0] = x[i];\n",
    "        }\n",
    "        if (minmax[1] < x[i]) {\n",
    "            out[1] = x[i];\n",
    "        }\n",
    "    }\n",
    "    return out;\n",
    "}')\n",
    "\n",
    "my_range(c(3,1,5,2,2,3,4,55,6,2,4,3,2,24,1,343,5,4,23,12,32,3,23,23,332,3,2,3,2,-1))"
   ]
  },
  {
   "cell_type": "markdown",
   "metadata": {},
   "source": [
    "## 7\n",
    "### standard deviation per column using sugar mean"
   ]
  },
  {
   "cell_type": "code",
   "execution_count": 11,
   "metadata": {},
   "outputs": [],
   "source": [
    "cppFunction('\n",
    "NumericVector rowSd_C(NumericMatrix mt) {\n",
    "    int nrow = mt.nrow();\n",
    "    int ncol = mt.ncol();\n",
    "\n",
    "    NumericVector means(nrow);\n",
    "    NumericVector out(nrow);\n",
    "    double total;\n",
    "    int i,j;\n",
    "\n",
    "    //loop for rows\n",
    "    for (i = 0; i < nrow; i++) {\n",
    "        total = 0;\n",
    "        //Sugar for computing the row means\n",
    "        means[i] = mean(mt(i,_));\n",
    "        //loop for columns\n",
    "        for (j = 0; j < ncol; j++) {\n",
    "            // pow is for x^y\n",
    "            total = total + pow(mt(i,j) - means[i], 2.0);\n",
    "        }\n",
    "        out[i] = sqrt(total / (ncol-1));\n",
    "    }\n",
    "    return out;\n",
    "}')"
   ]
  },
  {
   "cell_type": "markdown",
   "metadata": {},
   "source": [
    "## 8\n",
    "### same as 7 but wth more sugar"
   ]
  },
  {
   "cell_type": "code",
   "execution_count": 12,
   "metadata": {},
   "outputs": [],
   "source": [
    "cppFunction('\n",
    "NumericVector rowSd_C(NumericMatrix mt) {\n",
    "    int nrow = mt.nrow();\n",
    "    int ncol = mt.ncol();\n",
    "\n",
    "    NumericVector out(nrow);\n",
    "    double total;\n",
    "    int i,j;\n",
    "\n",
    "    //loop for rows\n",
    "    for (i = 0; i < nrow; i++) {\n",
    "        out[i] = sd(mt(i,_));\n",
    "    }\n",
    "    return out;\n",
    "}')"
   ]
  },
  {
   "cell_type": "markdown",
   "metadata": {},
   "source": [
    "## 9\n",
    "### max,min,mean,sd for each col, summary statistics"
   ]
  },
  {
   "cell_type": "code",
   "execution_count": 13,
   "metadata": {},
   "outputs": [
    {
     "data": {
      "text/html": "<table>\n<caption>A matrix: 5 × 4 of type dbl</caption>\n<tbody>\n\t<tr><td> 5</td><td>1</td><td> 3.0</td><td> 1.581139</td></tr>\n\t<tr><td> 8</td><td>2</td><td> 4.4</td><td> 2.302173</td></tr>\n\t<tr><td>45</td><td>1</td><td>11.2</td><td>18.952572</td></tr>\n\t<tr><td>43</td><td>2</td><td>11.4</td><td>17.700282</td></tr>\n\t<tr><td>56</td><td>3</td><td>14.2</td><td>23.381617</td></tr>\n</tbody>\n</table>\n",
      "text/latex": "A matrix: 5 × 4 of type dbl\n\\begin{tabular}{llll}\n\t  5 & 1 &  3.0 &  1.581139\\\\\n\t  8 & 2 &  4.4 &  2.302173\\\\\n\t 45 & 1 & 11.2 & 18.952572\\\\\n\t 43 & 2 & 11.4 & 17.700282\\\\\n\t 56 & 3 & 14.2 & 23.381617\\\\\n\\end{tabular}\n",
      "text/markdown": "\nA matrix: 5 × 4 of type dbl\n\n|  5 | 1 |  3.0 |  1.581139 |\n|  8 | 2 |  4.4 |  2.302173 |\n| 45 | 1 | 11.2 | 18.952572 |\n| 43 | 2 | 11.4 | 17.700282 |\n| 56 | 3 | 14.2 | 23.381617 |\n\n",
      "text/plain": "     [,1] [,2] [,3] [,4]     \n[1,]  5   1     3.0  1.581139\n[2,]  8   2     4.4  2.302173\n[3,] 45   1    11.2 18.952572\n[4,] 43   2    11.4 17.700282\n[5,] 56   3    14.2 23.381617"
     },
     "metadata": {},
     "output_type": "display_data"
    },
    {
     "data": {
      "text/html": "<table>\n<caption>A matrix: 5 × 4 of type dbl</caption>\n<tbody>\n\t<tr><td>0.7543621</td><td>0.262912092</td><td>0.4725014</td><td>0.1780015</td></tr>\n\t<tr><td>0.9082272</td><td>0.001220338</td><td>0.3887628</td><td>0.3162586</td></tr>\n\t<tr><td>0.9113458</td><td>0.229477662</td><td>0.4632574</td><td>0.2858648</td></tr>\n\t<tr><td>0.7555084</td><td>0.191617840</td><td>0.4113783</td><td>0.2018169</td></tr>\n\t<tr><td>0.8807286</td><td>0.062047761</td><td>0.5983334</td><td>0.3387061</td></tr>\n</tbody>\n</table>\n",
      "text/latex": "A matrix: 5 × 4 of type dbl\n\\begin{tabular}{llll}\n\t 0.7543621 & 0.262912092 & 0.4725014 & 0.1780015\\\\\n\t 0.9082272 & 0.001220338 & 0.3887628 & 0.3162586\\\\\n\t 0.9113458 & 0.229477662 & 0.4632574 & 0.2858648\\\\\n\t 0.7555084 & 0.191617840 & 0.4113783 & 0.2018169\\\\\n\t 0.8807286 & 0.062047761 & 0.5983334 & 0.3387061\\\\\n\\end{tabular}\n",
      "text/markdown": "\nA matrix: 5 × 4 of type dbl\n\n| 0.7543621 | 0.262912092 | 0.4725014 | 0.1780015 |\n| 0.9082272 | 0.001220338 | 0.3887628 | 0.3162586 |\n| 0.9113458 | 0.229477662 | 0.4632574 | 0.2858648 |\n| 0.7555084 | 0.191617840 | 0.4113783 | 0.2018169 |\n| 0.8807286 | 0.062047761 | 0.5983334 | 0.3387061 |\n\n",
      "text/plain": "     [,1]      [,2]        [,3]      [,4]     \n[1,] 0.7543621 0.262912092 0.4725014 0.1780015\n[2,] 0.9082272 0.001220338 0.3887628 0.3162586\n[3,] 0.9113458 0.229477662 0.4632574 0.2858648\n[4,] 0.7555084 0.191617840 0.4113783 0.2018169\n[5,] 0.8807286 0.062047761 0.5983334 0.3387061"
     },
     "metadata": {},
     "output_type": "display_data"
    }
   ],
   "source": [
    "cppFunction('\n",
    "NumericVector summary_stats(NumericMatrix mt) {\n",
    "    int nrow = mt.nrow();\n",
    "    NumericMatrix out(nrow,4);\n",
    "    int i;\n",
    "\n",
    "    //loop for rows\n",
    "    for (i = 0; i < nrow; i++) {\n",
    "        out(i,0) = max(mt(i,_));\n",
    "        out(i,1) = min(mt(i,_));\n",
    "        out(i,2) = mean(mt(i,_));\n",
    "        out(i,3) = sd(mt(i,_));\n",
    "    }\n",
    "    return out;\n",
    "}')\n",
    "\n",
    "summary_stats(matrix(c(1,3,2,4,5, 4,5,3,2,8, 1,2,3,45,5, 4,3,2,43,5, 3,4,5,56,3), nrow=5, ncol=5, byrow=T))\n",
    "summary_stats(matrix(runif(30),nrow=5))"
   ]
  },
  {
   "cell_type": "markdown",
   "metadata": {},
   "source": [
    "## 10 \n",
    "###  using dataframes and lists"
   ]
  },
  {
   "cell_type": "code",
   "execution_count": 14,
   "metadata": {},
   "outputs": [],
   "source": [
    "cppFunction ('\n",
    "List changeDataframe(DataFrame DF) {\n",
    "    // we receive a DF data.frame object and access each column by name\n",
    "    IntegerVector a = DF[\"a\"];\n",
    "    CharacterVector b = DF[\"b\"];\n",
    "\n",
    "    // We use clone (copy) so that the original dataframe is not modified\n",
    "    a = clone(a);\n",
    "    b = clone(b);\n",
    "\n",
    "    // do something\n",
    "    a[2] = 42;\n",
    "    b[1] = \"foo\";\n",
    "\n",
    "    // create a new data frame with two columns named newa and newb\n",
    "    DataFrame NDF = DataFrame::create(Named(\"newa\")=a,\n",
    "    Named(\"newb\")=b);\n",
    "\n",
    "    // and return old and new in list with two elements: origDataFrame and newDataFrame\n",
    "    return(List::create(Named(\"origDataFrame\")=DF,\n",
    "    Named(\"newDataFrame\")=NDF));\n",
    "}')\n"
   ]
  },
  {
   "cell_type": "code",
   "execution_count": 1,
   "metadata": {},
   "outputs": [],
   "source": [
    "#include <iostream>"
   ]
  }
 ],
 "metadata": {
  "kernelspec": {
   "display_name": "R",
   "name": "ir"
  },
  "language_info": {
   "codemirror_mode": "r",
   "file_extension": ".r",
   "mimetype": "text/x-r-source",
   "name": "R",
   "pygments_lexer": "r",
   "version": "4.0.3"
  },
  "orig_nbformat": 2
 },
 "nbformat": 4,
 "nbformat_minor": 2
}