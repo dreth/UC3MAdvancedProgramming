{
 "cells": [
  {
   "cell_type": "markdown",
   "metadata": {},
   "source": [
    "# Advanced programming: assignment 3"
   ]
  },
  {
   "cell_type": "markdown",
   "metadata": {},
   "source": [
    "### Daniel A.\n",
    "### UID: 100444499"
   ]
  },
  {
   "cell_type": "markdown",
   "metadata": {},
   "source": [
    "#### Importing Libraries"
   ]
  },
  {
   "cell_type": "code",
   "execution_count": 3,
   "metadata": {},
   "outputs": [],
   "source": [
    "import pandas as pd\n",
    "import numpy as np\n",
    "from sklearn.model_selection import train_test_split, RandomizedSearchCV\n",
    "from sklearn.pipeline import Pipeline\n",
    "from sklearn.neighbors import KNeighborsRegressor\n",
    "from sklearn.impute import SimpleImputer\n",
    "from sklearn.feature_selection import SelectKBest, f_regression\n",
    "from sklearn.tree import DecisionTreeRegressor\n",
    "from sklearn.svm import SVR\n",
    "from sklearn.metrics import mean_absolute_error\n",
    "from sklearn.preprocessing import MinMaxScaler\n"
   ]
  },
  {
   "cell_type": "markdown",
   "metadata": {},
   "source": [
    "#### Importing and Manipulating the data"
   ]
  },
  {
   "cell_type": "code",
   "execution_count": 7,
   "metadata": {},
   "outputs": [],
   "source": [
    "# importing the data\n",
    "data = pd.read_pickle(\"./data/wind_pickle.pickle\")\n",
    "\n",
    "# dropping cols\n",
    "data.drop(['steps', 'month', 'day', 'hour'], axis=1, inplace=True)\n",
    "\n",
    "# set seed\n",
    "my_NIA = 34291182\n",
    "np.random.seed(my_NIA)\n",
    "\n",
    "# selecting 10% of cols except year and energy\n",
    "cols = list(set(data.columns) - {'year', 'energy'})\n",
    "cols_selected = [np.random.choice(cols) for x in range(int(len(cols)*0.1))]\n",
    "\n",
    "# adding 5% missing values at random places\n",
    "for col in cols_selected:\n",
    "    selected_indexes = [np.random.choice(\n",
    "        data.index) for x in range(int(len(data)*0.05))]\n",
    "    for idx in selected_indexes:\n",
    "        data.loc[idx,col] = np.nan\n",
    "\n",
    "# saving the dataset\n",
    "data.to_pickle('./data/data.pickle')"
   ]
  },
  {
   "cell_type": "markdown",
   "metadata": {},
   "source": [
    "#### Further data preprocessing for modelling"
   ]
  },
  {
   "cell_type": "code",
   "execution_count": 8,
   "metadata": {},
   "outputs": [],
   "source": [
    "# train partition\n",
    "train = data[data['year'].isin([2005,2006])].drop('year',axis=1)\n",
    "X_train = train[[x for x in train.columns if x != 'energy']].values\n",
    "y_train = train['energy'].values\n",
    "# validation partition\n",
    "validation = data[data['year'].isin([2007,2008])].drop('year',axis=1)\n",
    "X_validation = validation[[x for x in train.columns if x != 'energy']].values\n",
    "y_validation = validation['energy'].values\n",
    "# test partition\n",
    "test = data[data['year'].isin([2009,2010])].drop('year',axis=1)\n",
    "X_test = test[[x for x in train.columns if x != 'energy']].values\n",
    "y_test = test['energy'].values"
   ]
  },
  {
   "cell_type": "markdown",
   "metadata": {},
   "source": [
    "### 1 - Model selection and hyper-parameter tuning"
   ]
  },
  {
   "cell_type": "markdown",
   "metadata": {},
   "source": [
    "#### Training and evaluating KNN, Reg trees, SVMs with default hyper-parameters"
   ]
  },
  {
   "cell_type": "code",
   "execution_count": 9,
   "metadata": {},
   "outputs": [],
   "source": [
    "# creating a dataframe to keep track of scores and results\n",
    "scores = {'knn':[],'svm':[],'dtr':[]}"
   ]
  },
  {
   "cell_type": "code",
   "execution_count": 10,
   "metadata": {},
   "outputs": [
    {
     "name": "stdout",
     "output_type": "stream",
     "text": [
      "knn\n",
      "svm\n",
      "dtr\n"
     ]
    }
   ],
   "source": [
    "# knn pipeline\n",
    "knn = Pipeline([\n",
    "    ('impute', SimpleImputer(strategy='mean')),\n",
    "    ('scaler', MinMaxScaler()),\n",
    "    ('model', KNeighborsRegressor())])\n",
    "\n",
    "# svm\n",
    "svm = Pipeline([\n",
    "    ('impute', SimpleImputer(strategy='mean')),\n",
    "    ('scaler', MinMaxScaler()),\n",
    "    ('model', SVR())])\n",
    "\n",
    "# tree\n",
    "dtr = Pipeline([\n",
    "    ('impute', SimpleImputer(strategy='mean')),\n",
    "    ('model', DecisionTreeRegressor())])\n",
    "\n",
    "# models\n",
    "models = {'knn':knn, 'svm':svm, 'dtr':dtr}\n",
    "for name, model in models.items():\n",
    "    print(name)\n",
    "    models[name].fit(X_train, y_train)\n",
    "    scores[name].append(mean_absolute_error(y_test, models[name].predict(X_test)))"
   ]
  },
  {
   "cell_type": "markdown",
   "metadata": {},
   "source": [
    "#### Training and evaluating KNN, Reg trees, SVMs with imputation and hyper-parameter tuning using RandomizedSearch"
   ]
  },
  {
   "cell_type": "code",
   "execution_count": 17,
   "metadata": {},
   "outputs": [],
   "source": [
    "# knn\n",
    "knn_params = {\n",
    "    'model__n_neighbors':np.random.random_integers(2,30,1),\n",
    "    'model__leaf_size':np.random.random_integers(28,40,1),\n",
    "    'model__algorithm':['auto','ball_tree','kd_tree','brute'],\n",
    "    'model__weights':['uniform','distance'],\n",
    "    'impute__strategy':['mean','median']\n",
    "}\n",
    "\n",
    "knn = Pipeline([\n",
    "    ('impute', SimpleImputer()),\n",
    "    ('scaler', MinMaxScaler()),\n",
    "    ('model', KNeighborsRegressor())])\n",
    "\n",
    "knn_RS = RandomizedSearchCV(estimator=knn,\n",
    "                            param_distributions=knn_params,\n",
    "                            n_iter=10,\n",
    "                            scoring='neg_mean_absolute_error')\n",
    "\n",
    "# svm\n",
    "svm_params = {\n",
    "    'model__degree':np.random.random_integers(2,7,1),\n",
    "    'model__gamma':list({'scale','auto'}.union(set(np.arange(0.0001,0.1,0.005)))),\n",
    "    'model__shrinking':[True, False],\n",
    "    'model__C':np.arange(0,5,0.5),\n",
    "    'impute__strategy':['mean','median']\n",
    "}\n",
    "\n",
    "svm = Pipeline([\n",
    "    ('impute', SimpleImputer()),\n",
    "    ('scaler', MinMaxScaler()),\n",
    "    ('model', SVR())])\n",
    "\n",
    "\n",
    "svm_RS = RandomizedSearchCV(estimator=svm,\n",
    "                            param_distributions=svm_params,\n",
    "                            n_iter=10,\n",
    "                            scoring='neg_mean_absolute_error')\n",
    "\n",
    "# tree\n",
    "dtr_params = {\n",
    "    'model__criterion':['mse', 'friedman_mse', 'mae', 'poisson'],\n",
    "    'model__splitter':['best','random'],\n",
    "    'model__max_depth':[True, False],\n",
    "    'impute__strategy':['mean','median']\n",
    "}\n",
    "\n",
    "dtr = Pipeline([\n",
    "    ('impute', SimpleImputer()),\n",
    "    ('model', DecisionTreeRegressor())])\n",
    "\n",
    "dtr_RS = RandomizedSearchCV(estimator=dtr,\n",
    "                            param_distributions=dtr_params,\n",
    "                            n_iter=10,\n",
    "                            scoring='neg_mean_absolute_error')\n"
   ]
  },
  {
   "cell_type": "code",
   "execution_count": 18,
   "metadata": {},
   "outputs": [
    {
     "name": "stdout",
     "output_type": "stream",
     "text": [
      "knn\n",
      "svm\n",
      "dtr\n"
     ]
    }
   ],
   "source": [
    "# models\n",
    "models = {'knn':knn_RS, 'svm':svm_RS, 'dtr':dtr_RS}\n",
    "\n",
    "# running fit\n",
    "for name, model in models.items():\n",
    "    print(name)\n",
    "    models[name].fit(X_train, y_train)\n",
    "    scores[name].append(mean_absolute_error(y_test, models[name].predict(X_test)))"
   ]
  },
  {
   "cell_type": "code",
   "execution_count": 19,
   "metadata": {},
   "outputs": [
    {
     "data": {
      "text/plain": "{'knn': [364.0584113744075, 360.3873194993698, 360.3873194993698],\n 'svm': [517.4896965513028, 465.95557670137885, 467.3369759546066],\n 'dtr': [397.0562796208531, 455.2118199052133]}"
     },
     "execution_count": 19,
     "metadata": {},
     "output_type": "execute_result"
    }
   ],
   "source": [
    "scores"
   ]
  },
  {
   "cell_type": "code",
   "execution_count": null,
   "metadata": {},
   "outputs": [],
   "source": []
  }
 ],
 "metadata": {
  "kernelspec": {
   "display_name": "Python 3",
   "name": "python3"
  },
  "language_info": {
   "codemirror_mode": {
    "name": "ipython",
    "version": 3
   },
   "file_extension": ".py",
   "mimetype": "text/x-python",
   "name": "python",
   "nbconvert_exporter": "python",
   "pygments_lexer": "ipython3",
   "version": "3.8.5"
  },
  "orig_nbformat": 2
 },
 "nbformat": 4,
 "nbformat_minor": 2
}