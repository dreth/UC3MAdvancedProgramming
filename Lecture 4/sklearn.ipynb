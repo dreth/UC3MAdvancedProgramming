{
 "cells": [
  {
   "cell_type": "markdown",
   "metadata": {},
   "source": [
    "# Lecture 4"
   ]
  },
  {
   "cell_type": "markdown",
   "metadata": {},
   "source": [
    "## Excercise 1"
   ]
  },
  {
   "cell_type": "code",
   "execution_count": 88,
   "metadata": {},
   "outputs": [],
   "source": [
    "from sklearn.tree import DecisionTreeRegressor, DecisionTreeClassifier\n",
    "from sklearn.neighbors import KNeighborsRegressor\n",
    "from sklearn.metrics import mean_squared_error, accuracy_score\n",
    "from sklearn.datasets import load_boston\n",
    "from sklearn.model_selection import train_test_split, cross_val_score, KFold\n",
    "import numpy as np"
   ]
  },
  {
   "cell_type": "code",
   "execution_count": 89,
   "metadata": {},
   "outputs": [
    {
     "name": "stdout",
     "output_type": "stream",
     "text": [
      "21.487165354330703\n"
     ]
    }
   ],
   "source": [
    "# data\n",
    "data = load_boston()\n",
    "X = data['data']\n",
    "y = data['target']\n",
    "\n",
    "# train test split\n",
    "X_train, X_test, y_train, y_test = train_test_split(X,y, test_size=0.25)\n",
    "model = DecisionTreeRegressor()\n",
    "\n",
    "# fit\n",
    "model.fit(X_train,y_train)\n",
    "\n",
    "# pred\n",
    "y_pred = model.predict(X_test)\n",
    "\n",
    "# MSE\n",
    "print(mean_squared_error(y_test,y_pred))"
   ]
  },
  {
   "cell_type": "code",
   "execution_count": 90,
   "metadata": {},
   "outputs": [
    {
     "name": "stdout",
     "output_type": "stream",
     "text": [
      "-15.790050475635798\n"
     ]
    }
   ],
   "source": [
    "# crossval\n",
    "cv = KFold(n_splits=5, shuffle=True)\n",
    "score = cross_val_score(model, X, y, scoring='neg_mean_squared_error', cv=cv)\n",
    "print(score.mean())"
   ]
  },
  {
   "cell_type": "code",
   "execution_count": 91,
   "metadata": {},
   "outputs": [
    {
     "name": "stdout",
     "output_type": "stream",
     "text": [
      "50.51033385826772\n",
      "-41.41086790914385\n"
     ]
    }
   ],
   "source": [
    "# both ways with knn\n",
    "model = KNeighborsRegressor()\n",
    "\n",
    "# fit\n",
    "model.fit(X_train,y_train)\n",
    "\n",
    "# pred\n",
    "y_pred = model.predict(X_test)\n",
    "\n",
    "# MSE\n",
    "print(mean_squared_error(y_test,y_pred))\n",
    "\n",
    "# cv score\n",
    "score = cross_val_score(model, X, y, scoring='neg_mean_squared_error', cv=cv)\n",
    "print(score.mean())"
   ]
  },
  {
   "cell_type": "code",
   "execution_count": null,
   "metadata": {},
   "outputs": [],
   "source": []
  }
 ],
 "metadata": {
  "kernelspec": {
   "display_name": "Python 3",
   "language": "python",
   "name": "python3"
  },
  "language_info": {
   "codemirror_mode": {
    "name": "ipython",
    "version": 3
   },
   "file_extension": ".py",
   "mimetype": "text/x-python",
   "name": "python",
   "nbconvert_exporter": "python",
   "pygments_lexer": "ipython3",
   "version": "3.8.5"
  },
  "orig_nbformat": 2
 },
 "nbformat": 4,
 "nbformat_minor": 2
}